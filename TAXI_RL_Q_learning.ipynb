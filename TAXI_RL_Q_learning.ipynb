{
 "cells": [
  {
   "cell_type": "code",
   "execution_count": 1,
   "metadata": {},
   "outputs": [],
   "source": [
    "import sys\n",
    "import numpy as np\n",
    "import gymnasium\n",
    "sys.modules[\"gym\"] = gymnasium\n",
    "import gym\n",
    "import gymnasium as gym\n",
    "from tqdm import tqdm\n",
    "import matplotlib.pyplot as plt\n"
   ]
  },
  {
   "cell_type": "code",
   "execution_count": 2,
   "metadata": {},
   "outputs": [],
   "source": [
    "#get our environment\n",
    "env = gym.make('Taxi-v3',render_mode='rgb_array')"
   ]
  },
  {
   "cell_type": "code",
   "execution_count": 3,
   "metadata": {},
   "outputs": [],
   "source": [
    "def get_q_table(state_shape, action_shape):\n",
    "  Qtable = np.zeros(shape = (state_shape,action_shape))\n",
    "  return Qtable"
   ]
  },
  {
   "cell_type": "code",
   "execution_count": 4,
   "metadata": {},
   "outputs": [
    {
     "name": "stdout",
     "output_type": "stream",
     "text": [
      "500 6\n"
     ]
    }
   ],
   "source": [
    "state_shape = env.observation_space.n # determine our space size for q table\n",
    "action_shape = env.action_space.n # determine our space size for q table\n",
    "\n",
    "print(state_shape, action_shape)"
   ]
  },
  {
   "cell_type": "code",
   "execution_count": 5,
   "metadata": {},
   "outputs": [
    {
     "name": "stdout",
     "output_type": "stream",
     "text": [
      "-10\n"
     ]
    }
   ],
   "source": [
    "#check how it works\n",
    "observation, info = env.reset()\n",
    "\n",
    "for _ in range(10):\n",
    "    action = env.action_space.sample()  \n",
    "    observation, reward, terminated, truncated, info = env.step(action)\n",
    "    if terminated or truncated:\n",
    "        observation, info = env.reset()\n",
    "\n",
    "env.close()\n",
    "print(reward)"
   ]
  },
  {
   "cell_type": "code",
   "execution_count": 6,
   "metadata": {},
   "outputs": [],
   "source": [
    "#determine functions for greeady and epsilon greedy policy\n",
    "\n",
    "def greedy_policy(Qtable, state):\n",
    "  # greedy alghorimt\n",
    "  action = np.argmax(Qtable[state][:])\n",
    "  \n",
    "  return action\n",
    "\n",
    "def epsilon_greedy_policy(Qtable, state, epsilon):\n",
    "  \n",
    "  random_num = np.random.uniform(0,1) # randome generate\n",
    "\n",
    "  if random_num > epsilon: #exploitation path\n",
    "    \n",
    "    action = greedy_policy(Qtable,state) # greedy choice\n",
    "  \n",
    "  else: #exploration path\n",
    "\n",
    "    action = env.action_space.sample()\n",
    "    # Take a random action\n",
    "\n",
    "  return action"
   ]
  },
  {
   "cell_type": "code",
   "execution_count": 7,
   "metadata": {},
   "outputs": [],
   "source": [
    "def train(n_training_episodes, min_epsilon, max_epsilon, \n",
    "          decay_rate,gamma,learning_rate, env, max_steps):\n",
    "  \n",
    "  \n",
    "  \n",
    "  state_n = env.observation_space.n\n",
    "  action_n = env.action_space.n\n",
    "\n",
    "  Qtable = get_q_table(state_n,action_n)\n",
    "\n",
    "  total_rewards = []\n",
    "  average_rewards_last_100 = []\n",
    "\n",
    "  for episode in tqdm(range(n_training_episodes)):\n",
    "\n",
    "    total_reward = 0\n",
    "     \n",
    "    # getting from explore to exploit\n",
    "    epsilon = min_epsilon + (max_epsilon - min_epsilon)*np.exp(-decay_rate*episode)\n",
    "    # Reset the environment\n",
    "    state, info = env.reset()\n",
    "    terminated = False\n",
    "    truncated = False\n",
    "\n",
    "    # cycle\n",
    "    for step in range(max_steps):\n",
    "      # Choose the action At greedy\n",
    "      action = epsilon_greedy_policy(Qtable, state, epsilon)\n",
    "\n",
    "      # Take action At and observe Rt+1 and St+1\n",
    "      new_state, reward, terminated, truncated, info = env.step(action)\n",
    "\n",
    "      total_reward += reward # reward accumulation\n",
    "\n",
    "      # Update Q(s,a):= Q(s,a) + lr [R(s,a) + gamma * max Q(s',a') - Q(s,a)]\n",
    "      Qtable[state][action] = Qtable[state][action] + learning_rate * (reward + gamma * np.max(Qtable[new_state]) - Qtable[state][action])\n",
    "\n",
    "      # If terminated or truncated finish the episode\n",
    "      if terminated or truncated:\n",
    "        break\n",
    "\n",
    "      # Our next state is the new state\n",
    "      state = new_state\n",
    "    \n",
    "    total_rewards.append(total_reward)\n",
    "\n",
    "    # Calculate the average reward for the last 100 episodes\n",
    "    if len(total_rewards) >= 100:\n",
    "      avg_reward_100 = np.mean(total_rewards[-100:])\n",
    "      average_rewards_last_100.append(avg_reward_100)\n",
    "    else:\n",
    "      average_rewards_last_100.append(np.mean(total_rewards))\n",
    "\n",
    "  return Qtable, total_rewards, average_rewards_last_100"
   ]
  },
  {
   "cell_type": "code",
   "execution_count": 8,
   "metadata": {},
   "outputs": [],
   "source": [
    "# Environment parameters\n",
    "max_steps = 150               # Max steps per episode\n",
    "gamma = 0.9                 # Discounting rate\n",
    "\n",
    "# Exploration parameters\n",
    "max_epsilon = 1.0             # Exploration probability at start\n",
    "min_epsilon = 0.1           # Minimum exploration probability\n",
    "decay_rate = 0.01  \n",
    "\n",
    "n_training_episodes = 10000   # Total training episodes\n",
    "learning_rate = 0.5         # Learning rate\n"
   ]
  },
  {
   "cell_type": "code",
   "execution_count": 9,
   "metadata": {},
   "outputs": [
    {
     "name": "stderr",
     "output_type": "stream",
     "text": [
      "100%|██████████| 10000/10000 [00:02<00:00, 4105.78it/s]\n"
     ]
    },
    {
     "data": {
      "text/plain": [
       "array([[  0.        ,   0.        ,   0.        ,   0.        ,\n",
       "          0.        ,   0.        ],\n",
       "       [ -0.58576323,   0.45561577,  -0.58721413,   0.45796387,\n",
       "          1.62261467,  -8.54411044],\n",
       "       [  4.34791051,   5.94319247,   4.34844595,   5.94294603,\n",
       "          7.7147    ,  -3.05678238],\n",
       "       ...,\n",
       "       [  7.70967218,   9.683     ,   7.71407503,   5.94272357,\n",
       "         -1.28553467,  -1.29333132],\n",
       "       [ -3.88422408,  -3.92312551,  -3.85811883,   2.91399066,\n",
       "        -10.01547734, -12.67340217],\n",
       "       [ 13.59875488,   8.65874996,   7.55602548,  17.        ,\n",
       "         -9.0875    ,   2.08563055]])"
      ]
     },
     "execution_count": 9,
     "metadata": {},
     "output_type": "execute_result"
    }
   ],
   "source": [
    "qtable_ready, total_rewards, average_rewards_last_100= train(n_training_episodes, min_epsilon, max_epsilon, decay_rate,gamma,learning_rate, env, max_steps)\n",
    "qtable_ready"
   ]
  },
  {
   "cell_type": "code",
   "execution_count": 10,
   "metadata": {},
   "outputs": [
    {
     "data": {
      "text/plain": [
       "[<matplotlib.lines.Line2D at 0x1c0a70df190>]"
      ]
     },
     "execution_count": 10,
     "metadata": {},
     "output_type": "execute_result"
    },
    {
     "data": {
      "image/png": "[encoded data removed]",
      "text/plain": [
       "<Figure size 640x480 with 1 Axes>"
      ]
     },
     "metadata": {},
     "output_type": "display_data"
    }
   ],
   "source": [
    "plt.plot(total_rewards)  "
   ]
  },
  {
   "cell_type": "code",
   "execution_count": 11,
   "metadata": {},
   "outputs": [
    {
     "data": {
      "text/plain": [
       "[<matplotlib.lines.Line2D at 0x1c0a7096260>]"
      ]
     },
     "execution_count": 11,
     "metadata": {},
     "output_type": "execute_result"
    },
    {
     "data": {
      "image/png": "[encoded data removed]",
      "text/plain": [
       "<Figure size 640x480 with 1 Axes>"
      ]
     },
     "metadata": {},
     "output_type": "display_data"
    }
   ],
   "source": [
    "plt.plot(average_rewards_last_100)"
   ]
  },
  {
   "cell_type": "code",
   "execution_count": 12,
   "metadata": {},
   "outputs": [],
   "source": [
    "np.save(\"qtable.npy\", qtable_ready)"
   ]
  },
  {
   "cell_type": "code",
   "execution_count": 13,
   "metadata": {},
   "outputs": [
    {
     "name": "stdout",
     "output_type": "stream",
     "text": [
      "[[  0.           0.           0.           0.           0.\n",
      "    0.        ]\n",
      " [ -0.58576323   0.45561577  -0.58721413   0.45796387   1.62261467\n",
      "   -8.54411044]\n",
      " [  4.34791051   5.94319247   4.34844595   5.94294603   7.7147\n",
      "   -3.05678238]\n",
      " ...\n",
      " [  7.70967218   9.683        7.71407503   5.94272357  -1.28553467\n",
      "   -1.29333132]\n",
      " [ -3.88422408  -3.92312551  -3.85811883   2.91399066 -10.01547734\n",
      "  -12.67340217]\n",
      " [ 13.59875488   8.65874996   7.55602548  17.          -9.0875\n",
      "    2.08563055]]\n"
     ]
    }
   ],
   "source": [
    "qtable_loaded = np.load(\"qtable.npy\")\n",
    "\n",
    "print(qtable_loaded)"
   ]
  }
 ],
 "metadata": {
  "kernelspec": {
   "display_name": "RL",
   "language": "python",
   "name": "python3"
  },
  "language_info": {
   "codemirror_mode": {
    "name": "ipython",
    "version": 3
   },
   "file_extension": ".py",
   "mimetype": "text/x-python",
   "name": "python",
   "nbconvert_exporter": "python",
   "pygments_lexer": "ipython3",
   "version": "3.10.10"
  }
 },
 "nbformat": 4,
 "nbformat_minor": 2
}
